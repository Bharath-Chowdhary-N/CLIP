{
 "cells": [
  {
   "cell_type": "code",
   "execution_count": 1,
   "id": "99af64f8-6555-4abd-a139-1ffeead5a320",
   "metadata": {},
   "outputs": [],
   "source": [
    "import numpy as np\n",
    "import matplotlib.pyplot as plt\n",
    "import torch"
   ]
  },
  {
   "cell_type": "code",
   "execution_count": 2,
   "id": "fd84f82b-457f-4a32-a342-936f94d18076",
   "metadata": {},
   "outputs": [],
   "source": [
    "from CLIP import *"
   ]
  },
  {
   "cell_type": "code",
   "execution_count": 3,
   "id": "08012418-6084-4863-a16e-b7dcc579e845",
   "metadata": {},
   "outputs": [],
   "source": [
    "text = torch.from_numpy(np.random.randint(32,50,[32,64]))"
   ]
  },
  {
   "cell_type": "code",
   "execution_count": 4,
   "id": "4562eee2-636c-4021-bd46-86b88cae36a8",
   "metadata": {},
   "outputs": [
    {
     "name": "stdout",
     "output_type": "stream",
     "text": [
      "50\n",
      "vocab_size: 50, transformer_width: 128\n"
     ]
    }
   ],
   "source": [
    "encoder = text_encoder()"
   ]
  },
  {
   "cell_type": "code",
   "execution_count": 5,
   "id": "a0dd5e93-ee61-44de-a2e1-48c282627d5a",
   "metadata": {},
   "outputs": [
    {
     "data": {
      "text/plain": [
       "tensor([[-0.1681,  0.0069,  0.5277,  ..., -1.8718,  0.0426,  0.1074],\n",
       "        [-0.2677, -0.3762,  0.6816,  ..., -1.6485, -0.0964,  0.1953],\n",
       "        [ 0.0078,  0.2170,  0.1986,  ..., -1.4891, -0.0594,  0.3132],\n",
       "        ...,\n",
       "        [-0.3496, -0.1730,  1.1721,  ..., -1.8136, -0.7599,  0.1169],\n",
       "        [-0.5769, -0.2544,  0.9637,  ..., -2.1173, -0.7316, -0.4408],\n",
       "        [ 0.2242,  0.0320,  0.1945,  ..., -2.1221, -0.4134,  0.1321]],\n",
       "       grad_fn=<MmBackward0>)"
      ]
     },
     "execution_count": 5,
     "metadata": {},
     "output_type": "execute_result"
    }
   ],
   "source": [
    "encoder(text)"
   ]
  },
  {
   "cell_type": "code",
   "execution_count": null,
   "id": "568227e1-4ac9-43ee-8459-9395eb66b889",
   "metadata": {},
   "outputs": [],
   "source": []
  }
 ],
 "metadata": {
  "kernelspec": {
   "display_name": "Python 3 (ipykernel)",
   "language": "python",
   "name": "python3"
  },
  "language_info": {
   "codemirror_mode": {
    "name": "ipython",
    "version": 3
   },
   "file_extension": ".py",
   "mimetype": "text/x-python",
   "name": "python",
   "nbconvert_exporter": "python",
   "pygments_lexer": "ipython3",
   "version": "3.10.13"
  }
 },
 "nbformat": 4,
 "nbformat_minor": 5
}
