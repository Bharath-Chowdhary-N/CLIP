{
 "cells": [
  {
   "cell_type": "code",
   "execution_count": 1,
   "id": "99af64f8-6555-4abd-a139-1ffeead5a320",
   "metadata": {},
   "outputs": [],
   "source": [
    "import numpy as np\n",
    "import matplotlib.pyplot as plt\n",
    "import torch"
   ]
  },
  {
   "cell_type": "code",
   "execution_count": 2,
   "id": "fd84f82b-457f-4a32-a342-936f94d18076",
   "metadata": {},
   "outputs": [],
   "source": [
    "from CLIP import *"
   ]
  },
  {
   "cell_type": "code",
   "execution_count": 3,
   "id": "08012418-6084-4863-a16e-b7dcc579e845",
   "metadata": {},
   "outputs": [],
   "source": [
    "text = torch.from_numpy(np.random.randint(0,50,[32,64]))"
   ]
  },
  {
   "cell_type": "code",
   "execution_count": 4,
   "id": "4562eee2-636c-4021-bd46-86b88cae36a8",
   "metadata": {},
   "outputs": [
    {
     "name": "stdout",
     "output_type": "stream",
     "text": [
      "50000\n",
      "vocab_size: 50000, transformer_width: 128\n"
     ]
    }
   ],
   "source": [
    "encoder = text_encoder()"
   ]
  },
  {
   "cell_type": "code",
   "execution_count": 5,
   "id": "806068f4-0678-411a-a899-11d714c54f22",
   "metadata": {},
   "outputs": [],
   "source": [
    "text = torch.from_numpy(np.load(\"../CLIP_hanumantha/test_data_text.npy\"))"
   ]
  },
  {
   "cell_type": "code",
   "execution_count": 6,
   "id": "d383cb78-30bd-43c3-b817-816878a0ba07",
   "metadata": {},
   "outputs": [
    {
     "data": {
      "text/plain": [
       "tensor([[49406,   263,   335,  ..., 49407, 49407, 49407],\n",
       "        [49406,   263,   335,  ..., 49407, 49407, 49407],\n",
       "        [49406,   263,   335,  ..., 49407, 49407, 49407],\n",
       "        ...,\n",
       "        [49406,   263,   335,  ..., 49407, 49407, 49407],\n",
       "        [49406,   263,   335,  ..., 49407, 49407, 49407],\n",
       "        [49406,   263,   335,  ..., 49407, 49407, 49407]], dtype=torch.int32)"
      ]
     },
     "execution_count": 6,
     "metadata": {},
     "output_type": "execute_result"
    }
   ],
   "source": [
    "text"
   ]
  },
  {
   "cell_type": "code",
   "execution_count": 7,
   "id": "a0dd5e93-ee61-44de-a2e1-48c282627d5a",
   "metadata": {},
   "outputs": [],
   "source": [
    "encoded_text = encoder(text)"
   ]
  },
  {
   "cell_type": "code",
   "execution_count": 8,
   "id": "568227e1-4ac9-43ee-8459-9395eb66b889",
   "metadata": {},
   "outputs": [
    {
     "data": {
      "text/plain": [
       "torch.Size([32, 128])"
      ]
     },
     "execution_count": 8,
     "metadata": {},
     "output_type": "execute_result"
    }
   ],
   "source": [
    "encoded_text.shape"
   ]
  },
  {
   "cell_type": "code",
   "execution_count": 9,
   "id": "2af16ca9-3bc3-4230-973d-6e6c65ae3ea8",
   "metadata": {},
   "outputs": [
    {
     "data": {
      "text/plain": [
       "tensor([[ 0.3147,  1.1903, -0.9154,  ..., -0.0663,  0.5586, -0.7690],\n",
       "        [ 0.2508,  1.2127, -0.9498,  ..., -0.0517,  0.5532, -0.8707],\n",
       "        [ 0.2348,  1.2001, -0.8055,  ..., -0.1266,  0.5996, -0.8548],\n",
       "        ...,\n",
       "        [ 0.2152,  1.1110, -0.7796,  ..., -0.1357,  0.5715, -0.9685],\n",
       "        [ 0.2186,  1.1654, -0.8068,  ..., -0.1740,  0.5735, -0.8567],\n",
       "        [ 0.2596,  1.1735, -0.9548,  ..., -0.0099,  0.5884, -0.8612]],\n",
       "       grad_fn=<MmBackward0>)"
      ]
     },
     "execution_count": 9,
     "metadata": {},
     "output_type": "execute_result"
    }
   ],
   "source": [
    "encoded_text"
   ]
  },
  {
   "cell_type": "code",
   "execution_count": null,
   "id": "4e18e594-feb6-4a13-9895-3e1956c4d246",
   "metadata": {},
   "outputs": [],
   "source": []
  }
 ],
 "metadata": {
  "kernelspec": {
   "display_name": "Python 3 (ipykernel)",
   "language": "python",
   "name": "python3"
  },
  "language_info": {
   "codemirror_mode": {
    "name": "ipython",
    "version": 3
   },
   "file_extension": ".py",
   "mimetype": "text/x-python",
   "name": "python",
   "nbconvert_exporter": "python",
   "pygments_lexer": "ipython3",
   "version": "3.10.13"
  }
 },
 "nbformat": 4,
 "nbformat_minor": 5
}
