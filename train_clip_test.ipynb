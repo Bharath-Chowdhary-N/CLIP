{
 "cells": [
  {
   "cell_type": "code",
   "execution_count": 1,
   "id": "191fc804",
   "metadata": {},
   "outputs": [],
   "source": [
    "from src.CLIP import CLIP\n",
    "import torch\n",
    "from src.io import Image_Text_Dataset\n",
    "from src.Trainer import train_clip\n",
    "import numpy as np\n",
    "from torch.utils.data import DataLoader, random_split, ConcatDataset"
   ]
  },
  {
   "cell_type": "code",
   "execution_count": 2,
   "id": "1af20119",
   "metadata": {},
   "outputs": [],
   "source": [
    "device = 'cuda' if torch.cuda.is_available() else 'cpu'"
   ]
  },
  {
   "cell_type": "code",
   "execution_count": 3,
   "id": "1c443ccc",
   "metadata": {},
   "outputs": [
    {
     "name": "stderr",
     "output_type": "stream",
     "text": [
      "/home/manth145/.local/lib/python3.8/site-packages/huggingface_hub/file_download.py:1132: FutureWarning: `resume_download` is deprecated and will be removed in version 1.0.0. Downloads always resume when possible. If you want to force a new download, use `force_download=True`.\n",
      "  warnings.warn(\n",
      "100%|███████████████████████████████████████████████████████████████████████████████████████████████████| 28123/28123 [00:09<00:00, 2829.01it/s]\n"
     ]
    },
    {
     "name": "stdout",
     "output_type": "stream",
     "text": [
      "Found 28123 images with no NaNs\n"
     ]
    }
   ],
   "source": [
    "illustris_tng_100_dataset1 = Image_Text_Dataset(fits_file='/d1/manth145/UVCANDELS/synthetic_images/hlsp_illustris_hst_acs_tng100-7-6-yxz_f814w_v1_sim.fits', cutout_size=64)"
   ]
  },
  {
   "cell_type": "code",
   "execution_count": 4,
   "id": "59a6896e",
   "metadata": {},
   "outputs": [],
   "source": [
    "train_val_split = 0.9\n",
    "batch_size = 32\n",
    "nworkers = 8\n",
    "\n",
    "dataloader = DataLoader(illustris_tng_100_dataset1, batch_size=batch_size, shuffle=True, pin_memory=True, num_workers=nworkers, persistent_workers=True)"
   ]
  },
  {
   "cell_type": "code",
   "execution_count": 5,
   "id": "ec2eeead",
   "metadata": {},
   "outputs": [],
   "source": [
    "something, condition = next(iter(dataloader))"
   ]
  },
  {
   "cell_type": "code",
   "execution_count": 6,
   "id": "60ad81f7",
   "metadata": {},
   "outputs": [],
   "source": [
    "# something.shape"
   ]
  },
  {
   "cell_type": "code",
   "execution_count": 5,
   "id": "51a73677",
   "metadata": {},
   "outputs": [
    {
     "name": "stderr",
     "output_type": "stream",
     "text": [
      "/home/manth145/.local/lib/python3.8/site-packages/torchvision/models/_utils.py:208: UserWarning: The parameter 'pretrained' is deprecated since 0.13 and may be removed in the future, please use 'weights' instead.\n",
      "  warnings.warn(\n",
      "/home/manth145/.local/lib/python3.8/site-packages/torchvision/models/_utils.py:223: UserWarning: Arguments other than a weight enum or `None` for 'weights' are deprecated since 0.13 and may be removed in the future. The current behavior is equivalent to passing `weights=ResNet50_Weights.IMAGENET1K_V1`. You can also use `weights=ResNet50_Weights.DEFAULT` to get the most up-to-date weights.\n",
      "  warnings.warn(msg)\n"
     ]
    },
    {
     "name": "stdout",
     "output_type": "stream",
     "text": [
      "torch.Size([32, 64, 128])\n"
     ]
    },
    {
     "name": "stderr",
     "output_type": "stream",
     "text": [
      "../aten/src/ATen/native/cuda/Indexing.cu:1292: indexSelectLargeIndex: block: [54,0,0], thread: [0,0,0] Assertion `srcIndex < srcSelectDimSize` failed.\n",
      "../aten/src/ATen/native/cuda/Indexing.cu:1292: indexSelectLargeIndex: block: [54,0,0], thread: [1,0,0] Assertion `srcIndex < srcSelectDimSize` failed.\n",
      "../aten/src/ATen/native/cuda/Indexing.cu:1292: indexSelectLargeIndex: block: [54,0,0], thread: [2,0,0] Assertion `srcIndex < srcSelectDimSize` failed.\n",
      "../aten/src/ATen/native/cuda/Indexing.cu:1292: indexSelectLargeIndex: block: [54,0,0], thread: [3,0,0] Assertion `srcIndex < srcSelectDimSize` failed.\n",
      "../aten/src/ATen/native/cuda/Indexing.cu:1292: indexSelectLargeIndex: block: [54,0,0], thread: [4,0,0] Assertion `srcIndex < srcSelectDimSize` failed.\n",
      "../aten/src/ATen/native/cuda/Indexing.cu:1292: indexSelectLargeIndex: block: [54,0,0], thread: [5,0,0] Assertion `srcIndex < srcSelectDimSize` failed.\n",
      "../aten/src/ATen/native/cuda/Indexing.cu:1292: indexSelectLargeIndex: block: [54,0,0], thread: [6,0,0] Assertion `srcIndex < srcSelectDimSize` failed.\n",
      "../aten/src/ATen/native/cuda/Indexing.cu:1292: indexSelectLargeIndex: block: [54,0,0], thread: [7,0,0] Assertion `srcIndex < srcSelectDimSize` failed.\n",
      "../aten/src/ATen/native/cuda/Indexing.cu:1292: indexSelectLargeIndex: block: [54,0,0], thread: [8,0,0] Assertion `srcIndex < srcSelectDimSize` failed.\n",
      "../aten/src/ATen/native/cuda/Indexing.cu:1292: indexSelectLargeIndex: block: [54,0,0], thread: [9,0,0] Assertion `srcIndex < srcSelectDimSize` failed.\n",
      "../aten/src/ATen/native/cuda/Indexing.cu:1292: indexSelectLargeIndex: block: [54,0,0], thread: [10,0,0] Assertion `srcIndex < srcSelectDimSize` failed.\n",
      "../aten/src/ATen/native/cuda/Indexing.cu:1292: indexSelectLargeIndex: block: [54,0,0], thread: [11,0,0] Assertion `srcIndex < srcSelectDimSize` failed.\n",
      "../aten/src/ATen/native/cuda/Indexing.cu:1292: indexSelectLargeIndex: block: [54,0,0], thread: [12,0,0] Assertion `srcIndex < srcSelectDimSize` failed.\n",
      "../aten/src/ATen/native/cuda/Indexing.cu:1292: indexSelectLargeIndex: block: [54,0,0], thread: [13,0,0] Assertion `srcIndex < srcSelectDimSize` failed.\n",
      "../aten/src/ATen/native/cuda/Indexing.cu:1292: indexSelectLargeIndex: block: [54,0,0], thread: [14,0,0] Assertion `srcIndex < srcSelectDimSize` failed.\n",
      "../aten/src/ATen/native/cuda/Indexing.cu:1292: indexSelectLargeIndex: block: [54,0,0], thread: [15,0,0] Assertion `srcIndex < srcSelectDimSize` failed.\n",
      "../aten/src/ATen/native/cuda/Indexing.cu:1292: indexSelectLargeIndex: block: [54,0,0], thread: [16,0,0] Assertion `srcIndex < srcSelectDimSize` failed.\n",
      "../aten/src/ATen/native/cuda/Indexing.cu:1292: indexSelectLargeIndex: block: [54,0,0], thread: [17,0,0] Assertion `srcIndex < srcSelectDimSize` failed.\n",
      "../aten/src/ATen/native/cuda/Indexing.cu:1292: indexSelectLargeIndex: block: [54,0,0], thread: [18,0,0] Assertion `srcIndex < srcSelectDimSize` failed.\n",
      "../aten/src/ATen/native/cuda/Indexing.cu:1292: indexSelectLargeIndex: block: [54,0,0], thread: [19,0,0] Assertion `srcIndex < srcSelectDimSize` failed.\n",
      "../aten/src/ATen/native/cuda/Indexing.cu:1292: indexSelectLargeIndex: block: [54,0,0], thread: [20,0,0] Assertion `srcIndex < srcSelectDimSize` failed.\n",
      "../aten/src/ATen/native/cuda/Indexing.cu:1292: indexSelectLargeIndex: block: [54,0,0], thread: [21,0,0] Assertion `srcIndex < srcSelectDimSize` failed.\n",
      "../aten/src/ATen/native/cuda/Indexing.cu:1292: indexSelectLargeIndex: block: [54,0,0], thread: [22,0,0] Assertion `srcIndex < srcSelectDimSize` failed.\n",
      "../aten/src/ATen/native/cuda/Indexing.cu:1292: indexSelectLargeIndex: block: [54,0,0], thread: [23,0,0] Assertion `srcIndex < srcSelectDimSize` failed.\n",
      "../aten/src/ATen/native/cuda/Indexing.cu:1292: indexSelectLargeIndex: block: [54,0,0], thread: [24,0,0] Assertion `srcIndex < srcSelectDimSize` failed.\n",
      "../aten/src/ATen/native/cuda/Indexing.cu:1292: indexSelectLargeIndex: block: [54,0,0], thread: [25,0,0] Assertion `srcIndex < srcSelectDimSize` failed.\n",
      "../aten/src/ATen/native/cuda/Indexing.cu:1292: indexSelectLargeIndex: block: [54,0,0], thread: [26,0,0] Assertion `srcIndex < srcSelectDimSize` failed.\n",
      "../aten/src/ATen/native/cuda/Indexing.cu:1292: indexSelectLargeIndex: block: [54,0,0], thread: [27,0,0] Assertion `srcIndex < srcSelectDimSize` failed.\n",
      "../aten/src/ATen/native/cuda/Indexing.cu:1292: indexSelectLargeIndex: block: [54,0,0], thread: [28,0,0] Assertion `srcIndex < srcSelectDimSize` failed.\n",
      "../aten/src/ATen/native/cuda/Indexing.cu:1292: indexSelectLargeIndex: block: [54,0,0], thread: [29,0,0] Assertion `srcIndex < srcSelectDimSize` failed.\n",
      "../aten/src/ATen/native/cuda/Indexing.cu:1292: indexSelectLargeIndex: block: [54,0,0], thread: [30,0,0] Assertion `srcIndex < srcSelectDimSize` failed.\n",
      "../aten/src/ATen/native/cuda/Indexing.cu:1292: indexSelectLargeIndex: block: [54,0,0], thread: [31,0,0] Assertion `srcIndex < srcSelectDimSize` failed.\n",
      "../aten/src/ATen/native/cuda/Indexing.cu:1292: indexSelectLargeIndex: block: [54,0,0], thread: [96,0,0] Assertion `srcIndex < srcSelectDimSize` failed.\n",
      "../aten/src/ATen/native/cuda/Indexing.cu:1292: indexSelectLargeIndex: block: [54,0,0], thread: [97,0,0] Assertion `srcIndex < srcSelectDimSize` failed.\n",
      "../aten/src/ATen/native/cuda/Indexing.cu:1292: indexSelectLargeIndex: block: [54,0,0], thread: [98,0,0] Assertion `srcIndex < srcSelectDimSize` failed.\n",
      "../aten/src/ATen/native/cuda/Indexing.cu:1292: indexSelectLargeIndex: block: [54,0,0], thread: [99,0,0] Assertion `srcIndex < srcSelectDimSize` failed.\n",
      "../aten/src/ATen/native/cuda/Indexing.cu:1292: indexSelectLargeIndex: block: [54,0,0], thread: [100,0,0] Assertion `srcIndex < srcSelectDimSize` failed.\n",
      "../aten/src/ATen/native/cuda/Indexing.cu:1292: indexSelectLargeIndex: block: [54,0,0], thread: [101,0,0] Assertion `srcIndex < srcSelectDimSize` failed.\n",
      "../aten/src/ATen/native/cuda/Indexing.cu:1292: indexSelectLargeIndex: block: [54,0,0], thread: [102,0,0] Assertion `srcIndex < srcSelectDimSize` failed.\n",
      "../aten/src/ATen/native/cuda/Indexing.cu:1292: indexSelectLargeIndex: block: [54,0,0], thread: [103,0,0] Assertion `srcIndex < srcSelectDimSize` failed.\n",
      "../aten/src/ATen/native/cuda/Indexing.cu:1292: indexSelectLargeIndex: block: [54,0,0], thread: [104,0,0] Assertion `srcIndex < srcSelectDimSize` failed.\n",
      "../aten/src/ATen/native/cuda/Indexing.cu:1292: indexSelectLargeIndex: block: [54,0,0], thread: [105,0,0] Assertion `srcIndex < srcSelectDimSize` failed.\n",
      "../aten/src/ATen/native/cuda/Indexing.cu:1292: indexSelectLargeIndex: block: [54,0,0], thread: [106,0,0] Assertion `srcIndex < srcSelectDimSize` failed.\n",
      "../aten/src/ATen/native/cuda/Indexing.cu:1292: indexSelectLargeIndex: block: [54,0,0], thread: [107,0,0] Assertion `srcIndex < srcSelectDimSize` failed.\n",
      "../aten/src/ATen/native/cuda/Indexing.cu:1292: indexSelectLargeIndex: block: [54,0,0], thread: [108,0,0] Assertion `srcIndex < srcSelectDimSize` failed.\n",
      "../aten/src/ATen/native/cuda/Indexing.cu:1292: indexSelectLargeIndex: block: [54,0,0], thread: [109,0,0] Assertion `srcIndex < srcSelectDimSize` failed.\n",
      "../aten/src/ATen/native/cuda/Indexing.cu:1292: indexSelectLargeIndex: block: [54,0,0], thread: [110,0,0] Assertion `srcIndex < srcSelectDimSize` failed.\n",
      "../aten/src/ATen/native/cuda/Indexing.cu:1292: indexSelectLargeIndex: block: [54,0,0], thread: [111,0,0] Assertion `srcIndex < srcSelectDimSize` failed.\n",
      "../aten/src/ATen/native/cuda/Indexing.cu:1292: indexSelectLargeIndex: block: [54,0,0], thread: [112,0,0] Assertion `srcIndex < srcSelectDimSize` failed.\n",
      "../aten/src/ATen/native/cuda/Indexing.cu:1292: indexSelectLargeIndex: block: [54,0,0], thread: [113,0,0] Assertion `srcIndex < srcSelectDimSize` failed.\n",
      "../aten/src/ATen/native/cuda/Indexing.cu:1292: indexSelectLargeIndex: block: [54,0,0], thread: [114,0,0] Assertion `srcIndex < srcSelectDimSize` failed.\n",
      "../aten/src/ATen/native/cuda/Indexing.cu:1292: indexSelectLargeIndex: block: [54,0,0], thread: [115,0,0] Assertion `srcIndex < srcSelectDimSize` failed.\n",
      "../aten/src/ATen/native/cuda/Indexing.cu:1292: indexSelectLargeIndex: block: [54,0,0], thread: [116,0,0] Assertion `srcIndex < srcSelectDimSize` failed.\n",
      "../aten/src/ATen/native/cuda/Indexing.cu:1292: indexSelectLargeIndex: block: [54,0,0], thread: [117,0,0] Assertion `srcIndex < srcSelectDimSize` failed.\n",
      "../aten/src/ATen/native/cuda/Indexing.cu:1292: indexSelectLargeIndex: block: [54,0,0], thread: [118,0,0] Assertion `srcIndex < srcSelectDimSize` failed.\n",
      "../aten/src/ATen/native/cuda/Indexing.cu:1292: indexSelectLargeIndex: block: [54,0,0], thread: [119,0,0] Assertion `srcIndex < srcSelectDimSize` failed.\n",
      "../aten/src/ATen/native/cuda/Indexing.cu:1292: indexSelectLargeIndex: block: [54,0,0], thread: [120,0,0] Assertion `srcIndex < srcSelectDimSize` failed.\n",
      "../aten/src/ATen/native/cuda/Indexing.cu:1292: indexSelectLargeIndex: block: [54,0,0], thread: [121,0,0] Assertion `srcIndex < srcSelectDimSize` failed.\n",
      "../aten/src/ATen/native/cuda/Indexing.cu:1292: indexSelectLargeIndex: block: [54,0,0], thread: [122,0,0] Assertion `srcIndex < srcSelectDimSize` failed.\n",
      "../aten/src/ATen/native/cuda/Indexing.cu:1292: indexSelectLargeIndex: block: [54,0,0], thread: [123,0,0] Assertion `srcIndex < srcSelectDimSize` failed.\n",
      "../aten/src/ATen/native/cuda/Indexing.cu:1292: indexSelectLargeIndex: block: [54,0,0], thread: [124,0,0] Assertion `srcIndex < srcSelectDimSize` failed.\n",
      "../aten/src/ATen/native/cuda/Indexing.cu:1292: indexSelectLargeIndex: block: [54,0,0], thread: [125,0,0] Assertion `srcIndex < srcSelectDimSize` failed.\n",
      "../aten/src/ATen/native/cuda/Indexing.cu:1292: indexSelectLargeIndex: block: [54,0,0], thread: [126,0,0] Assertion `srcIndex < srcSelectDimSize` failed.\n",
      "../aten/src/ATen/native/cuda/Indexing.cu:1292: indexSelectLargeIndex: block: [54,0,0], thread: [127,0,0] Assertion `srcIndex < srcSelectDimSize` failed.\n",
      "../aten/src/ATen/native/cuda/Indexing.cu:1292: indexSelectLargeIndex: block: [60,0,0], thread: [0,0,0] Assertion `srcIndex < srcSelectDimSize` failed.\n",
      "../aten/src/ATen/native/cuda/Indexing.cu:1292: indexSelectLargeIndex: block: [60,0,0], thread: [1,0,0] Assertion `srcIndex < srcSelectDimSize` failed.\n",
      "../aten/src/ATen/native/cuda/Indexing.cu:1292: indexSelectLargeIndex: block: [60,0,0], thread: [2,0,0] Assertion `srcIndex < srcSelectDimSize` failed.\n",
      "../aten/src/ATen/native/cuda/Indexing.cu:1292: indexSelectLargeIndex: block: [60,0,0], thread: [3,0,0] Assertion `srcIndex < srcSelectDimSize` failed.\n",
      "../aten/src/ATen/native/cuda/Indexing.cu:1292: indexSelectLargeIndex: block: [60,0,0], thread: [4,0,0] Assertion `srcIndex < srcSelectDimSize` failed.\n",
      "../aten/src/ATen/native/cuda/Indexing.cu:1292: indexSelectLargeIndex: block: [60,0,0], thread: [5,0,0] Assertion `srcIndex < srcSelectDimSize` failed.\n",
      "../aten/src/ATen/native/cuda/Indexing.cu:1292: indexSelectLargeIndex: block: [60,0,0], thread: [6,0,0] Assertion `srcIndex < srcSelectDimSize` failed.\n",
      "../aten/src/ATen/native/cuda/Indexing.cu:1292: indexSelectLargeIndex: block: [60,0,0], thread: [7,0,0] Assertion `srcIndex < srcSelectDimSize` failed.\n",
      "../aten/src/ATen/native/cuda/Indexing.cu:1292: indexSelectLargeIndex: block: [60,0,0], thread: [8,0,0] Assertion `srcIndex < srcSelectDimSize` failed.\n",
      "../aten/src/ATen/native/cuda/Indexing.cu:1292: indexSelectLargeIndex: block: [60,0,0], thread: [9,0,0] Assertion `srcIndex < srcSelectDimSize` failed.\n",
      "../aten/src/ATen/native/cuda/Indexing.cu:1292: indexSelectLargeIndex: block: [60,0,0], thread: [10,0,0] Assertion `srcIndex < srcSelectDimSize` failed.\n",
      "../aten/src/ATen/native/cuda/Indexing.cu:1292: indexSelectLargeIndex: block: [60,0,0], thread: [11,0,0] Assertion `srcIndex < srcSelectDimSize` failed.\n",
      "../aten/src/ATen/native/cuda/Indexing.cu:1292: indexSelectLargeIndex: block: [60,0,0], thread: [12,0,0] Assertion `srcIndex < srcSelectDimSize` failed.\n",
      "../aten/src/ATen/native/cuda/Indexing.cu:1292: indexSelectLargeIndex: block: [60,0,0], thread: [13,0,0] Assertion `srcIndex < srcSelectDimSize` failed.\n",
      "../aten/src/ATen/native/cuda/Indexing.cu:1292: indexSelectLargeIndex: block: [60,0,0], thread: [14,0,0] Assertion `srcIndex < srcSelectDimSize` failed.\n",
      "../aten/src/ATen/native/cuda/Indexing.cu:1292: indexSelectLargeIndex: block: [60,0,0], thread: [15,0,0] Assertion `srcIndex < srcSelectDimSize` failed.\n",
      "../aten/src/ATen/native/cuda/Indexing.cu:1292: indexSelectLargeIndex: block: [60,0,0], thread: [16,0,0] Assertion `srcIndex < srcSelectDimSize` failed.\n",
      "../aten/src/ATen/native/cuda/Indexing.cu:1292: indexSelectLargeIndex: block: [60,0,0], thread: [17,0,0] Assertion `srcIndex < srcSelectDimSize` failed.\n",
      "../aten/src/ATen/native/cuda/Indexing.cu:1292: indexSelectLargeIndex: block: [60,0,0], thread: [18,0,0] Assertion `srcIndex < srcSelectDimSize` failed.\n",
      "../aten/src/ATen/native/cuda/Indexing.cu:1292: indexSelectLargeIndex: block: [60,0,0], thread: [19,0,0] Assertion `srcIndex < srcSelectDimSize` failed.\n",
      "../aten/src/ATen/native/cuda/Indexing.cu:1292: indexSelectLargeIndex: block: [60,0,0], thread: [20,0,0] Assertion `srcIndex < srcSelectDimSize` failed.\n",
      "../aten/src/ATen/native/cuda/Indexing.cu:1292: indexSelectLargeIndex: block: [60,0,0], thread: [21,0,0] Assertion `srcIndex < srcSelectDimSize` failed.\n",
      "../aten/src/ATen/native/cuda/Indexing.cu:1292: indexSelectLargeIndex: block: [60,0,0], thread: [22,0,0] Assertion `srcIndex < srcSelectDimSize` failed.\n",
      "../aten/src/ATen/native/cuda/Indexing.cu:1292: indexSelectLargeIndex: block: [60,0,0], thread: [23,0,0] Assertion `srcIndex < srcSelectDimSize` failed.\n",
      "../aten/src/ATen/native/cuda/Indexing.cu:1292: indexSelectLargeIndex: block: [60,0,0], thread: [24,0,0] Assertion `srcIndex < srcSelectDimSize` failed.\n",
      "../aten/src/ATen/native/cuda/Indexing.cu:1292: indexSelectLargeIndex: block: [60,0,0], thread: [25,0,0] Assertion `srcIndex < srcSelectDimSize` failed.\n",
      "../aten/src/ATen/native/cuda/Indexing.cu:1292: indexSelectLargeIndex: block: [60,0,0], thread: [26,0,0] Assertion `srcIndex < srcSelectDimSize` failed.\n",
      "../aten/src/ATen/native/cuda/Indexing.cu:1292: indexSelectLargeIndex: block: [60,0,0], thread: [27,0,0] Assertion `srcIndex < srcSelectDimSize` failed.\n",
      "../aten/src/ATen/native/cuda/Indexing.cu:1292: indexSelectLargeIndex: block: [60,0,0], thread: [28,0,0] Assertion `srcIndex < srcSelectDimSize` failed.\n",
      "../aten/src/ATen/native/cuda/Indexing.cu:1292: indexSelectLargeIndex: block: [60,0,0], thread: [29,0,0] Assertion `srcIndex < srcSelectDimSize` failed.\n",
      "../aten/src/ATen/native/cuda/Indexing.cu:1292: indexSelectLargeIndex: block: [60,0,0], thread: [30,0,0] Assertion `srcIndex < srcSelectDimSize` failed.\n",
      "../aten/src/ATen/native/cuda/Indexing.cu:1292: indexSelectLargeIndex: block: [60,0,0], thread: [31,0,0] Assertion `srcIndex < srcSelectDimSize` failed.\n"
     ]
    },
    {
     "ename": "RuntimeError",
     "evalue": "CUDA error: device-side assert triggered\nCUDA kernel errors might be asynchronously reported at some other API call, so the stacktrace below might be incorrect.\nFor debugging consider passing CUDA_LAUNCH_BLOCKING=1.\nCompile with `TORCH_USE_CUDA_DSA` to enable device-side assertions.\n",
     "output_type": "error",
     "traceback": [
      "\u001b[0;31m---------------------------------------------------------------------------\u001b[0m",
      "\u001b[0;31mRuntimeError\u001b[0m                              Traceback (most recent call last)",
      "\u001b[0;32m/tmp/ipykernel_2018778/1537637966.py\u001b[0m in \u001b[0;36m<module>\u001b[0;34m\u001b[0m\n\u001b[1;32m      1\u001b[0m \u001b[0mmodel\u001b[0m \u001b[0;34m=\u001b[0m \u001b[0mCLIP\u001b[0m\u001b[0;34m(\u001b[0m\u001b[0membed_dim\u001b[0m\u001b[0;34m=\u001b[0m\u001b[0;36m128\u001b[0m\u001b[0;34m,\u001b[0m \u001b[0mtemperature\u001b[0m\u001b[0;34m=\u001b[0m\u001b[0;36m0.1\u001b[0m\u001b[0;34m)\u001b[0m\u001b[0;34m\u001b[0m\u001b[0;34m\u001b[0m\u001b[0m\n\u001b[1;32m      2\u001b[0m \u001b[0;34m\u001b[0m\u001b[0m\n\u001b[0;32m----> 3\u001b[0;31m trained_model = train_clip(model=model, device=device, train_loader = dataloader, \n\u001b[0m\u001b[1;32m      4\u001b[0m                            learning_rate=1e-4, dest_folder='./checkpoints')\n\u001b[1;32m      5\u001b[0m \u001b[0;34m\u001b[0m\u001b[0m\n",
      "\u001b[0;32m~/codes/CLIP/src/Trainer.py\u001b[0m in \u001b[0;36mtrain_clip\u001b[0;34m(model, device, train_loader, learning_rate, batch_size, warmup_steps, num_epochs, enable_amp, dest_folder)\u001b[0m\n\u001b[1;32m     41\u001b[0m             \u001b[0mtokens\u001b[0m \u001b[0;34m=\u001b[0m \u001b[0mtokens\u001b[0m\u001b[0;34m.\u001b[0m\u001b[0mto\u001b[0m\u001b[0;34m(\u001b[0m\u001b[0mdevice\u001b[0m\u001b[0;34m)\u001b[0m\u001b[0;34m\u001b[0m\u001b[0;34m\u001b[0m\u001b[0m\n\u001b[1;32m     42\u001b[0m             \u001b[0;32mwith\u001b[0m \u001b[0mtorch\u001b[0m\u001b[0;34m.\u001b[0m\u001b[0mcuda\u001b[0m\u001b[0;34m.\u001b[0m\u001b[0mamp\u001b[0m\u001b[0;34m.\u001b[0m\u001b[0mautocast\u001b[0m\u001b[0;34m(\u001b[0m\u001b[0;34m)\u001b[0m\u001b[0;34m:\u001b[0m\u001b[0;34m\u001b[0m\u001b[0;34m\u001b[0m\u001b[0m\n\u001b[0;32m---> 43\u001b[0;31m                  \u001b[0mlogits_per_image\u001b[0m\u001b[0;34m,\u001b[0m \u001b[0mlogits_per_text\u001b[0m \u001b[0;34m=\u001b[0m \u001b[0mmodel\u001b[0m\u001b[0;34m(\u001b[0m\u001b[0mimages\u001b[0m\u001b[0;34m,\u001b[0m\u001b[0mtokens\u001b[0m\u001b[0;34m)\u001b[0m\u001b[0;34m\u001b[0m\u001b[0;34m\u001b[0m\u001b[0m\n\u001b[0m\u001b[1;32m     44\u001b[0m \u001b[0;34m\u001b[0m\u001b[0m\n\u001b[1;32m     45\u001b[0m                  \u001b[0mlabels\u001b[0m \u001b[0;34m=\u001b[0m \u001b[0mtorch\u001b[0m\u001b[0;34m.\u001b[0m\u001b[0marange\u001b[0m\u001b[0;34m(\u001b[0m\u001b[0mlen\u001b[0m\u001b[0;34m(\u001b[0m\u001b[0mimages\u001b[0m\u001b[0;34m)\u001b[0m\u001b[0;34m)\u001b[0m\u001b[0;34m.\u001b[0m\u001b[0mto\u001b[0m\u001b[0;34m(\u001b[0m\u001b[0mdevice\u001b[0m\u001b[0;34m)\u001b[0m\u001b[0;34m\u001b[0m\u001b[0;34m\u001b[0m\u001b[0m\n",
      "\u001b[0;32m~/.local/lib/python3.8/site-packages/torch/nn/modules/module.py\u001b[0m in \u001b[0;36m_wrapped_call_impl\u001b[0;34m(self, *args, **kwargs)\u001b[0m\n\u001b[1;32m   1516\u001b[0m             \u001b[0;32mreturn\u001b[0m \u001b[0mself\u001b[0m\u001b[0;34m.\u001b[0m\u001b[0m_compiled_call_impl\u001b[0m\u001b[0;34m(\u001b[0m\u001b[0;34m*\u001b[0m\u001b[0margs\u001b[0m\u001b[0;34m,\u001b[0m \u001b[0;34m**\u001b[0m\u001b[0mkwargs\u001b[0m\u001b[0;34m)\u001b[0m  \u001b[0;31m# type: ignore[misc]\u001b[0m\u001b[0;34m\u001b[0m\u001b[0;34m\u001b[0m\u001b[0m\n\u001b[1;32m   1517\u001b[0m         \u001b[0;32melse\u001b[0m\u001b[0;34m:\u001b[0m\u001b[0;34m\u001b[0m\u001b[0;34m\u001b[0m\u001b[0m\n\u001b[0;32m-> 1518\u001b[0;31m             \u001b[0;32mreturn\u001b[0m \u001b[0mself\u001b[0m\u001b[0;34m.\u001b[0m\u001b[0m_call_impl\u001b[0m\u001b[0;34m(\u001b[0m\u001b[0;34m*\u001b[0m\u001b[0margs\u001b[0m\u001b[0;34m,\u001b[0m \u001b[0;34m**\u001b[0m\u001b[0mkwargs\u001b[0m\u001b[0;34m)\u001b[0m\u001b[0;34m\u001b[0m\u001b[0;34m\u001b[0m\u001b[0m\n\u001b[0m\u001b[1;32m   1519\u001b[0m \u001b[0;34m\u001b[0m\u001b[0m\n\u001b[1;32m   1520\u001b[0m     \u001b[0;32mdef\u001b[0m \u001b[0m_call_impl\u001b[0m\u001b[0;34m(\u001b[0m\u001b[0mself\u001b[0m\u001b[0;34m,\u001b[0m \u001b[0;34m*\u001b[0m\u001b[0margs\u001b[0m\u001b[0;34m,\u001b[0m \u001b[0;34m**\u001b[0m\u001b[0mkwargs\u001b[0m\u001b[0;34m)\u001b[0m\u001b[0;34m:\u001b[0m\u001b[0;34m\u001b[0m\u001b[0;34m\u001b[0m\u001b[0m\n",
      "\u001b[0;32m~/.local/lib/python3.8/site-packages/torch/nn/modules/module.py\u001b[0m in \u001b[0;36m_call_impl\u001b[0;34m(self, *args, **kwargs)\u001b[0m\n\u001b[1;32m   1525\u001b[0m                 \u001b[0;32mor\u001b[0m \u001b[0m_global_backward_pre_hooks\u001b[0m \u001b[0;32mor\u001b[0m \u001b[0m_global_backward_hooks\u001b[0m\u001b[0;34m\u001b[0m\u001b[0;34m\u001b[0m\u001b[0m\n\u001b[1;32m   1526\u001b[0m                 or _global_forward_hooks or _global_forward_pre_hooks):\n\u001b[0;32m-> 1527\u001b[0;31m             \u001b[0;32mreturn\u001b[0m \u001b[0mforward_call\u001b[0m\u001b[0;34m(\u001b[0m\u001b[0;34m*\u001b[0m\u001b[0margs\u001b[0m\u001b[0;34m,\u001b[0m \u001b[0;34m**\u001b[0m\u001b[0mkwargs\u001b[0m\u001b[0;34m)\u001b[0m\u001b[0;34m\u001b[0m\u001b[0;34m\u001b[0m\u001b[0m\n\u001b[0m\u001b[1;32m   1528\u001b[0m \u001b[0;34m\u001b[0m\u001b[0m\n\u001b[1;32m   1529\u001b[0m         \u001b[0;32mtry\u001b[0m\u001b[0;34m:\u001b[0m\u001b[0;34m\u001b[0m\u001b[0;34m\u001b[0m\u001b[0m\n",
      "\u001b[0;32m~/codes/CLIP/src/CLIP.py\u001b[0m in \u001b[0;36mforward\u001b[0;34m(self, images, text)\u001b[0m\n\u001b[1;32m    171\u001b[0m         \u001b[0mimage_features\u001b[0m \u001b[0;34m=\u001b[0m \u001b[0mF\u001b[0m\u001b[0;34m.\u001b[0m\u001b[0mnormalize\u001b[0m\u001b[0;34m(\u001b[0m\u001b[0mself\u001b[0m\u001b[0;34m.\u001b[0m\u001b[0mimage_encoder\u001b[0m\u001b[0;34m(\u001b[0m\u001b[0mimages\u001b[0m\u001b[0;34m)\u001b[0m\u001b[0;34m,\u001b[0m \u001b[0mdim\u001b[0m\u001b[0;34m=\u001b[0m\u001b[0;34m-\u001b[0m\u001b[0;36m1\u001b[0m\u001b[0;34m)\u001b[0m\u001b[0;34m\u001b[0m\u001b[0;34m\u001b[0m\u001b[0m\n\u001b[1;32m    172\u001b[0m \u001b[0;34m\u001b[0m\u001b[0m\n\u001b[0;32m--> 173\u001b[0;31m         \u001b[0mtext_features\u001b[0m \u001b[0;34m=\u001b[0m \u001b[0mF\u001b[0m\u001b[0;34m.\u001b[0m\u001b[0mnormalize\u001b[0m\u001b[0;34m(\u001b[0m\u001b[0mself\u001b[0m\u001b[0;34m.\u001b[0m\u001b[0mtext_encoder\u001b[0m\u001b[0;34m(\u001b[0m\u001b[0mtext\u001b[0m\u001b[0;34m)\u001b[0m\u001b[0;34m,\u001b[0m \u001b[0mdim\u001b[0m\u001b[0;34m=\u001b[0m\u001b[0;34m-\u001b[0m\u001b[0;36m1\u001b[0m\u001b[0;34m)\u001b[0m\u001b[0;34m\u001b[0m\u001b[0;34m\u001b[0m\u001b[0m\n\u001b[0m\u001b[1;32m    174\u001b[0m \u001b[0;34m\u001b[0m\u001b[0m\n\u001b[1;32m    175\u001b[0m         \u001b[0mlogit_scale\u001b[0m \u001b[0;34m=\u001b[0m \u001b[0mself\u001b[0m\u001b[0;34m.\u001b[0m\u001b[0mlogit_scale\u001b[0m\u001b[0;34m.\u001b[0m\u001b[0mexp\u001b[0m\u001b[0;34m(\u001b[0m\u001b[0;34m)\u001b[0m\u001b[0;34m\u001b[0m\u001b[0;34m\u001b[0m\u001b[0m\n",
      "\u001b[0;32m~/.local/lib/python3.8/site-packages/torch/nn/modules/module.py\u001b[0m in \u001b[0;36m_wrapped_call_impl\u001b[0;34m(self, *args, **kwargs)\u001b[0m\n\u001b[1;32m   1516\u001b[0m             \u001b[0;32mreturn\u001b[0m \u001b[0mself\u001b[0m\u001b[0;34m.\u001b[0m\u001b[0m_compiled_call_impl\u001b[0m\u001b[0;34m(\u001b[0m\u001b[0;34m*\u001b[0m\u001b[0margs\u001b[0m\u001b[0;34m,\u001b[0m \u001b[0;34m**\u001b[0m\u001b[0mkwargs\u001b[0m\u001b[0;34m)\u001b[0m  \u001b[0;31m# type: ignore[misc]\u001b[0m\u001b[0;34m\u001b[0m\u001b[0;34m\u001b[0m\u001b[0m\n\u001b[1;32m   1517\u001b[0m         \u001b[0;32melse\u001b[0m\u001b[0;34m:\u001b[0m\u001b[0;34m\u001b[0m\u001b[0;34m\u001b[0m\u001b[0m\n\u001b[0;32m-> 1518\u001b[0;31m             \u001b[0;32mreturn\u001b[0m \u001b[0mself\u001b[0m\u001b[0;34m.\u001b[0m\u001b[0m_call_impl\u001b[0m\u001b[0;34m(\u001b[0m\u001b[0;34m*\u001b[0m\u001b[0margs\u001b[0m\u001b[0;34m,\u001b[0m \u001b[0;34m**\u001b[0m\u001b[0mkwargs\u001b[0m\u001b[0;34m)\u001b[0m\u001b[0;34m\u001b[0m\u001b[0;34m\u001b[0m\u001b[0m\n\u001b[0m\u001b[1;32m   1519\u001b[0m \u001b[0;34m\u001b[0m\u001b[0m\n\u001b[1;32m   1520\u001b[0m     \u001b[0;32mdef\u001b[0m \u001b[0m_call_impl\u001b[0m\u001b[0;34m(\u001b[0m\u001b[0mself\u001b[0m\u001b[0;34m,\u001b[0m \u001b[0;34m*\u001b[0m\u001b[0margs\u001b[0m\u001b[0;34m,\u001b[0m \u001b[0;34m**\u001b[0m\u001b[0mkwargs\u001b[0m\u001b[0;34m)\u001b[0m\u001b[0;34m:\u001b[0m\u001b[0;34m\u001b[0m\u001b[0;34m\u001b[0m\u001b[0m\n",
      "\u001b[0;32m~/.local/lib/python3.8/site-packages/torch/nn/modules/module.py\u001b[0m in \u001b[0;36m_call_impl\u001b[0;34m(self, *args, **kwargs)\u001b[0m\n\u001b[1;32m   1525\u001b[0m                 \u001b[0;32mor\u001b[0m \u001b[0m_global_backward_pre_hooks\u001b[0m \u001b[0;32mor\u001b[0m \u001b[0m_global_backward_hooks\u001b[0m\u001b[0;34m\u001b[0m\u001b[0;34m\u001b[0m\u001b[0m\n\u001b[1;32m   1526\u001b[0m                 or _global_forward_hooks or _global_forward_pre_hooks):\n\u001b[0;32m-> 1527\u001b[0;31m             \u001b[0;32mreturn\u001b[0m \u001b[0mforward_call\u001b[0m\u001b[0;34m(\u001b[0m\u001b[0;34m*\u001b[0m\u001b[0margs\u001b[0m\u001b[0;34m,\u001b[0m \u001b[0;34m**\u001b[0m\u001b[0mkwargs\u001b[0m\u001b[0;34m)\u001b[0m\u001b[0;34m\u001b[0m\u001b[0;34m\u001b[0m\u001b[0m\n\u001b[0m\u001b[1;32m   1528\u001b[0m \u001b[0;34m\u001b[0m\u001b[0m\n\u001b[1;32m   1529\u001b[0m         \u001b[0;32mtry\u001b[0m\u001b[0;34m:\u001b[0m\u001b[0;34m\u001b[0m\u001b[0;34m\u001b[0m\u001b[0m\n",
      "\u001b[0;32m~/codes/CLIP/src/CLIP.py\u001b[0m in \u001b[0;36mforward\u001b[0;34m(self, text)\u001b[0m\n\u001b[1;32m     60\u001b[0m         \u001b[0mprint\u001b[0m\u001b[0;34m(\u001b[0m\u001b[0mx\u001b[0m\u001b[0;34m.\u001b[0m\u001b[0mshape\u001b[0m\u001b[0;34m)\u001b[0m\u001b[0;34m\u001b[0m\u001b[0;34m\u001b[0m\u001b[0m\n\u001b[1;32m     61\u001b[0m \u001b[0;34m\u001b[0m\u001b[0m\n\u001b[0;32m---> 62\u001b[0;31m         \u001b[0mx\u001b[0m \u001b[0;34m=\u001b[0m  \u001b[0mx\u001b[0m\u001b[0;34m[\u001b[0m\u001b[0mtorch\u001b[0m\u001b[0;34m.\u001b[0m\u001b[0marange\u001b[0m\u001b[0;34m(\u001b[0m\u001b[0mx\u001b[0m\u001b[0;34m.\u001b[0m\u001b[0mshape\u001b[0m\u001b[0;34m[\u001b[0m\u001b[0;36m0\u001b[0m\u001b[0;34m]\u001b[0m\u001b[0;34m)\u001b[0m\u001b[0;34m,\u001b[0m \u001b[0mtext\u001b[0m\u001b[0;34m.\u001b[0m\u001b[0margmax\u001b[0m\u001b[0;34m(\u001b[0m\u001b[0mdim\u001b[0m\u001b[0;34m=\u001b[0m\u001b[0;34m-\u001b[0m\u001b[0;36m1\u001b[0m\u001b[0;34m)\u001b[0m\u001b[0;34m]\u001b[0m \u001b[0;31m#take features from end of text embedding, as it would have absorbed features from other embeddings, #[batch_size, transformer_width]\u001b[0m\u001b[0;34m\u001b[0m\u001b[0;34m\u001b[0m\u001b[0m\n\u001b[0m\u001b[1;32m     63\u001b[0m \u001b[0;31m#         text.argmax(dim=-1)\u001b[0m\u001b[0;34m\u001b[0m\u001b[0;34m\u001b[0m\u001b[0;34m\u001b[0m\u001b[0m\n\u001b[1;32m     64\u001b[0m \u001b[0;34m\u001b[0m\u001b[0m\n",
      "\u001b[0;31mRuntimeError\u001b[0m: CUDA error: device-side assert triggered\nCUDA kernel errors might be asynchronously reported at some other API call, so the stacktrace below might be incorrect.\nFor debugging consider passing CUDA_LAUNCH_BLOCKING=1.\nCompile with `TORCH_USE_CUDA_DSA` to enable device-side assertions.\n"
     ]
    }
   ],
   "source": [
    "model = CLIP(embed_dim=128, temperature=0.1)\n",
    "\n",
    "trained_model = train_clip(model=model, device=device, train_loader = dataloader, \n",
    "                           learning_rate=1e-4, dest_folder='./checkpoints')\n",
    "\n",
    "# #save the trained model\n",
    "# torch.save(trained_model.state_dict(), 'clip_trained_model.pt')"
   ]
  },
  {
   "cell_type": "code",
   "execution_count": null,
   "id": "3198768a",
   "metadata": {},
   "outputs": [],
   "source": [
    "# from transformers import CLIPTokenizer as HFCLIPTokenizer\n",
    "# tokenizer = HFCLIPTokenizer.from_pretrained(\"openai/clip-vit-base-patch32\", force_download=True)"
   ]
  },
  {
   "cell_type": "code",
   "execution_count": null,
   "id": "6089f444",
   "metadata": {},
   "outputs": [],
   "source": [
    "# tokenizer(\"(P1:1.56), (P2:10.6)\", padding=\"max_length\", max_length = 64, truncation=True)"
   ]
  },
  {
   "cell_type": "code",
   "execution_count": 5,
   "id": "cb4be012",
   "metadata": {},
   "outputs": [
    {
     "data": {
      "text/plain": [
       "{'input_ids': [49406, 263, 335, 272, 281, 272, 13, 2361, 263, 335, 273, 281, 280, 269, 277, 264, 49407, 49407, 49407, 49407, 49407, 49407, 49407, 49407, 49407, 49407, 49407, 49407, 49407, 49407, 49407, 49407, 49407, 49407, 49407, 49407, 49407, 49407, 49407, 49407, 49407, 49407, 49407, 49407, 49407, 49407, 49407, 49407, 49407, 49407, 49407, 49407, 49407, 49407, 49407, 49407, 49407, 49407, 49407, 49407, 49407, 49407, 49407, 49407], 'attention_mask': [1, 1, 1, 1, 1, 1, 1, 1, 1, 1, 1, 1, 1, 1, 1, 1, 1, 0, 0, 0, 0, 0, 0, 0, 0, 0, 0, 0, 0, 0, 0, 0, 0, 0, 0, 0, 0, 0, 0, 0, 0, 0, 0, 0, 0, 0, 0, 0, 0, 0, 0, 0, 0, 0, 0, 0, 0, 0, 0, 0, 0, 0, 0, 0]}"
      ]
     },
     "execution_count": 5,
     "metadata": {},
     "output_type": "execute_result"
    }
   ],
   "source": [
    "# tokenizer(\"(P1:1.), (P2:9.6)\", padding=\"max_length\", max_length = 64, truncation=True)"
   ]
  },
  {
   "cell_type": "code",
   "execution_count": 9,
   "id": "3bded43f",
   "metadata": {},
   "outputs": [
    {
     "data": {
      "image/png": "[encoded data removed]",
      "text/plain": [
       "<Figure size 432x288 with 1 Axes>"
      ]
     },
     "metadata": {
      "needs_background": "light"
     },
     "output_type": "display_data"
    }
   ],
   "source": [
    "import matplotlib.pyplot as plt\n",
    "\n",
    "plt.imshow(something[0,1,:,:].cpu().numpy(), cmap='gray')\n",
    "\n",
    "plt.show()"
   ]
  },
  {
   "cell_type": "code",
   "execution_count": 11,
   "id": "ba04ce08",
   "metadata": {},
   "outputs": [],
   "source": [
    "dest_folder = './checkpoints/'"
   ]
  },
  {
   "cell_type": "code",
   "execution_count": 12,
   "id": "d2775c5f",
   "metadata": {},
   "outputs": [
    {
     "data": {
      "text/plain": [
       "True"
      ]
     },
     "execution_count": 12,
     "metadata": {},
     "output_type": "execute_result"
    }
   ],
   "source": [
    "dest_folder.endswith('/')"
   ]
  },
  {
   "cell_type": "code",
   "execution_count": 1,
   "id": "31831ab4",
   "metadata": {},
   "outputs": [
    {
     "ename": "NameError",
     "evalue": "name 'condition' is not defined",
     "output_type": "error",
     "traceback": [
      "\u001b[0;31m---------------------------------------------------------------------------\u001b[0m",
      "\u001b[0;31mNameError\u001b[0m                                 Traceback (most recent call last)",
      "\u001b[0;32m/tmp/ipykernel_756305/2525313574.py\u001b[0m in \u001b[0;36m<module>\u001b[0;34m\u001b[0m\n\u001b[0;32m----> 1\u001b[0;31m \u001b[0mcondition\u001b[0m\u001b[0;34m.\u001b[0m\u001b[0margmax\u001b[0m\u001b[0;34m(\u001b[0m\u001b[0mdim\u001b[0m\u001b[0;34m=\u001b[0m\u001b[0;34m-\u001b[0m\u001b[0;36m1\u001b[0m\u001b[0;34m)\u001b[0m\u001b[0;34m\u001b[0m\u001b[0;34m\u001b[0m\u001b[0m\n\u001b[0m",
      "\u001b[0;31mNameError\u001b[0m: name 'condition' is not defined"
     ]
    }
   ],
   "source": [
    "condition.argmax(dim=-1)"
   ]
  },
  {
   "cell_type": "code",
   "execution_count": 8,
   "id": "b2982966",
   "metadata": {},
   "outputs": [
    {
     "data": {
      "text/plain": [
       "tensor([21, 21, 21, 21, 21, 21, 21, 21, 21, 21, 21, 21, 21, 20, 20, 21, 21, 21,\n",
       "        21, 21, 21, 21, 21, 20, 21, 21, 21, 20, 21, 22, 21, 20])"
      ]
     },
     "execution_count": 8,
     "metadata": {},
     "output_type": "execute_result"
    }
   ],
   "source": [
    "condition.argmax(dim=-1)"
   ]
  },
  {
   "cell_type": "code",
   "execution_count": 10,
   "id": "985e35e6",
   "metadata": {},
   "outputs": [
    {
     "data": {
      "text/plain": [
       "torch.Size([32, 64])"
      ]
     },
     "execution_count": 10,
     "metadata": {},
     "output_type": "execute_result"
    }
   ],
   "source": [
    "torch.index_select(condition, dim=1, index=condition.argmax(dim=-1)).shape"
   ]
  },
  {
   "cell_type": "code",
   "execution_count": 11,
   "id": "b83c05f0",
   "metadata": {},
   "outputs": [
    {
     "data": {
      "text/plain": [
       "tensor([49407, 49407, 49407, 49407, 49407, 49407, 49407, 49407, 49407, 49407,\n",
       "        49407, 49407, 49407, 49407, 49407, 49407, 49407, 49407, 49407, 49407,\n",
       "        49407, 49407, 49407, 49407, 49407, 49407, 49407, 49407, 49407, 49407,\n",
       "        49407, 49407], dtype=torch.int32)"
      ]
     },
     "execution_count": 11,
     "metadata": {},
     "output_type": "execute_result"
    }
   ],
   "source": [
    "condition[torch.arange(32), condition.argmax(dim=-1)]"
   ]
  },
  {
   "cell_type": "code",
   "execution_count": 7,
   "id": "31dc89d4",
   "metadata": {},
   "outputs": [],
   "source": [
    "some_random_tensor = torch.rand(32, 64, 128)"
   ]
  },
  {
   "cell_type": "code",
   "execution_count": 8,
   "id": "a33a7b7f",
   "metadata": {},
   "outputs": [
    {
     "data": {
      "text/plain": [
       "torch.Size([32, 64, 128])"
      ]
     },
     "execution_count": 8,
     "metadata": {},
     "output_type": "execute_result"
    }
   ],
   "source": [
    "some_random_tensor.shape"
   ]
  },
  {
   "cell_type": "code",
   "execution_count": 10,
   "id": "3d01168c",
   "metadata": {},
   "outputs": [
    {
     "data": {
      "text/plain": [
       "torch.Size([32, 32, 128])"
      ]
     },
     "execution_count": 10,
     "metadata": {},
     "output_type": "execute_result"
    }
   ],
   "source": [
    "torch.index_select(some_random_tensor, dim=1, index=condition.argmax(dim=-1))[0]"
   ]
  },
  {
   "cell_type": "code",
   "execution_count": 10,
   "id": "c43fd0da",
   "metadata": {},
   "outputs": [
    {
     "data": {
      "text/plain": [
       "torch.Size([32, 32, 128])"
      ]
     },
     "execution_count": 10,
     "metadata": {},
     "output_type": "execute_result"
    }
   ],
   "source": [
    "torch.index_select(some_random_tensor, dim=1, index=condition.argmax(dim=-1))[torch.arange(32)].shape"
   ]
  },
  {
   "cell_type": "code",
   "execution_count": 9,
   "id": "70ed68ba",
   "metadata": {},
   "outputs": [
    {
     "data": {
      "text/plain": [
       "torch.Size([32, 128])"
      ]
     },
     "execution_count": 9,
     "metadata": {},
     "output_type": "execute_result"
    }
   ],
   "source": [
    "some_random_tensor[torch.arange(32), (21*torch.ones(32)).to(torch.int32)].shape"
   ]
  },
  {
   "cell_type": "code",
   "execution_count": 8,
   "id": "c9612d4a",
   "metadata": {},
   "outputs": [
    {
     "name": "stdout",
     "output_type": "stream",
     "text": [
      "torch.Size([32, 64]) tensor([21, 21, 21, 21, 21, 20, 20, 21, 21, 21, 22, 20, 21, 21, 21, 21, 20, 21,\n",
      "        21, 21, 20, 22, 18, 20, 21, 21, 21, 21, 21, 21, 21, 20])\n",
      "torch.Size([32, 64]) tensor([20, 20, 21, 21, 21, 21, 21, 20, 21, 21, 19, 22, 21, 20, 21, 21, 21, 19,\n",
      "        21, 20, 20, 21, 21, 21, 21, 22, 21, 21, 21, 21, 21, 20])\n",
      "torch.Size([32, 64]) tensor([21, 21, 21, 21, 22, 21, 21, 21, 21, 21, 21, 21, 21, 21, 21, 21, 21, 21,\n",
      "        21, 21, 21, 20, 21, 21, 21, 21, 21, 20, 19, 21, 21, 21])\n",
      "torch.Size([32, 64]) tensor([21, 21, 21, 21, 21, 21, 21, 21, 22, 20, 21, 21, 21, 21, 22, 22, 21, 21,\n",
      "        21, 21, 19, 22, 21, 21, 21, 21, 21, 21, 20, 21, 21, 21])\n",
      "torch.Size([32, 64]) tensor([21, 21, 21, 20, 21, 21, 21, 21, 21, 21, 19, 20, 21, 21, 21, 21, 21, 21,\n",
      "        21, 21, 21, 21, 20, 21, 21, 21, 20, 21, 21, 21, 21, 21])\n",
      "torch.Size([32, 64]) tensor([21, 20, 22, 21, 21, 21, 21, 21, 20, 21, 21, 21, 21, 21, 21, 21, 21, 22,\n",
      "        21, 21, 19, 19, 21, 21, 21, 21, 21, 21, 21, 21, 21, 21])\n",
      "torch.Size([32, 64]) tensor([20, 21, 20, 21, 21, 21, 21, 20, 19, 21, 20, 21, 21, 21, 20, 21, 20, 21,\n",
      "        22, 21, 21, 21, 21, 21, 21, 22, 21, 19, 20, 21, 21, 21])\n",
      "torch.Size([32, 64]) tensor([21, 21, 21, 21, 20, 21, 21, 21, 20, 20, 21, 21, 20, 20, 20, 21, 21, 21,\n",
      "        21, 20, 21, 21, 21, 21, 21, 21, 21, 21, 21, 20, 19, 21])\n",
      "torch.Size([32, 64]) tensor([21, 21, 21, 20, 20, 21, 21, 21, 21, 21, 21, 21, 21, 21, 20, 21, 21, 21,\n",
      "        21, 20, 21, 21, 21, 21, 21, 21, 21, 20, 21, 21, 19, 20])\n",
      "torch.Size([32, 64]) tensor([20, 21, 21, 21, 21, 21, 20, 18, 21, 21, 21, 20, 21, 21, 21, 21, 22, 21,\n",
      "        19, 21, 21, 20, 21, 21, 21, 20, 20, 21, 21, 21, 21, 21])\n",
      "torch.Size([32, 64]) tensor([20, 21, 21, 21, 20, 21, 21, 21, 21, 21, 21, 21, 22, 20, 21, 21, 20, 21,\n",
      "        21, 21, 19, 20, 21, 21, 21, 19, 21, 21, 21, 21, 20, 21])\n",
      "torch.Size([32, 64]) tensor([21, 21, 21, 21, 21, 20, 21, 21, 21, 20, 22, 21, 21, 21, 21, 21, 21, 21,\n",
      "        21, 21, 21, 21, 21, 21, 21, 21, 21, 21, 20, 21, 21, 21])\n",
      "torch.Size([32, 64]) tensor([20, 19, 20, 21, 21, 20, 21, 21, 21, 21, 20, 21, 20, 21, 21, 21, 21, 21,\n",
      "        21, 21, 20, 21, 21, 21, 21, 21, 21, 21, 21, 21, 21, 21])\n",
      "torch.Size([32, 64]) tensor([21, 21, 21, 21, 21, 21, 21, 21, 21, 21, 21, 21, 21, 21, 21, 21, 21, 20,\n",
      "        21, 20, 21, 21, 21, 22, 21, 20, 21, 21, 22, 21, 21, 21])\n",
      "torch.Size([32, 64]) tensor([21, 21, 21, 20, 21, 21, 21, 22, 21, 21, 21, 20, 21, 21, 21, 20, 21, 21,\n",
      "        21, 21, 21, 21, 21, 21, 21, 21, 21, 21, 21, 21, 21, 20])\n",
      "torch.Size([32, 64]) tensor([21, 21, 21, 21, 21, 22, 21, 21, 21, 21, 20, 21, 21, 21, 21, 21, 21, 22,\n",
      "        21, 21, 21, 21, 21, 20, 20, 21, 21, 20, 21, 21, 21, 22])\n",
      "torch.Size([32, 64]) tensor([21, 21, 22, 21, 21, 21, 20, 21, 20, 21, 21, 21, 21, 19, 20, 20, 21, 21,\n",
      "        21, 21, 21, 20, 21, 21, 21, 21, 20, 21, 18, 21, 21, 21])\n",
      "torch.Size([32, 64]) tensor([21, 20, 21, 22, 21, 21, 22, 21, 21, 21, 20, 21, 21, 21, 21, 21, 18, 21,\n",
      "        19, 21, 21, 20, 21, 20, 21, 21, 21, 21, 21, 21, 22, 21])\n",
      "torch.Size([32, 64]) tensor([22, 21, 21, 21, 21, 21, 21, 21, 21, 20, 20, 21, 20, 21, 21, 21, 21, 21,\n",
      "        21, 21, 21, 21, 21, 21, 21, 21, 21, 21, 20, 21, 19, 21])\n",
      "torch.Size([32, 64]) tensor([21, 21, 21, 21, 22, 21, 21, 22, 21, 21, 21, 20, 22, 21, 21, 21, 21, 21,\n",
      "        21, 21, 21, 21, 21, 21, 21, 21, 21, 21, 20, 20, 22, 21])\n",
      "torch.Size([32, 64]) tensor([21, 20, 21, 21, 21, 21, 21, 21, 20, 21, 21, 21, 20, 21, 21, 21, 20, 21,\n",
      "        21, 21, 21, 21, 21, 21, 19, 20, 21, 21, 21, 21, 21, 21])\n",
      "torch.Size([32, 64]) tensor([21, 21, 21, 21, 21, 21, 19, 21, 21, 21, 21, 22, 21, 22, 21, 18, 21, 21,\n",
      "        21, 19, 21, 21, 21, 21, 21, 21, 20, 21, 21, 21, 21, 21])\n",
      "torch.Size([32, 64]) tensor([21, 21, 21, 21, 21, 21, 21, 21, 21, 21, 21, 21, 21, 19, 21, 21, 21, 21,\n",
      "        21, 20, 21, 21, 20, 21, 21, 21, 21, 21, 20, 21, 21, 21])\n",
      "torch.Size([32, 64]) tensor([21, 21, 21, 21, 21, 20, 21, 21, 21, 21, 21, 21, 21, 21, 21, 20, 21, 21,\n",
      "        21, 21, 20, 19, 21, 21, 21, 21, 21, 21, 21, 21, 21, 21])\n",
      "torch.Size([32, 64]) tensor([21, 22, 21, 21, 21, 20, 21, 19, 21, 20, 21, 21, 21, 21, 21, 21, 21, 21,\n",
      "        21, 20, 20, 21, 21, 21, 21, 21, 21, 20, 21, 21, 21, 21])\n",
      "torch.Size([32, 64]) tensor([21, 21, 21, 21, 20, 21, 21, 21, 21, 21, 21, 19, 22, 20, 21, 21, 21, 21,\n",
      "        21, 21, 21, 22, 21, 21, 21, 21, 21, 21, 21, 21, 21, 21])\n",
      "torch.Size([32, 64]) tensor([19, 21, 22, 21, 21, 20, 21, 21, 20, 21, 21, 21, 21, 21, 21, 21, 21, 21,\n",
      "        21, 21, 21, 21, 21, 21, 21, 21, 21, 21, 21, 22, 21, 21])\n",
      "torch.Size([32, 64]) tensor([21, 21, 21, 22, 20, 20, 19, 21, 21, 21, 21, 21, 21, 21, 21, 20, 21, 21,\n",
      "        21, 21, 21, 21, 21, 20, 21, 21, 21, 21, 22, 21, 20, 21])\n",
      "torch.Size([32, 64]) tensor([21, 20, 17, 22, 21, 21, 21, 22, 21, 21, 21, 21, 21, 21, 21, 21, 20, 21,\n",
      "        21, 21, 21, 21, 20, 21, 21, 21, 21, 21, 21, 20, 21, 21])\n",
      "torch.Size([32, 64]) tensor([21, 21, 21, 21, 20, 19, 21, 21, 21, 21, 21, 20, 21, 21, 21, 19, 21, 21,\n",
      "        21, 21, 21, 21, 21, 21, 21, 21, 21, 21, 21, 21, 21, 21])\n",
      "torch.Size([32, 64]) tensor([21, 20, 20, 21, 21, 21, 21, 21, 21, 20, 21, 21, 21, 21, 21, 21, 20, 21,\n",
      "        21, 22, 21, 21, 21, 21, 20, 21, 21, 21, 21, 21, 21, 21])\n",
      "torch.Size([32, 64]) tensor([21, 21, 20, 21, 21, 20, 21, 21, 20, 21, 20, 20, 21, 21, 21, 21, 22, 21,\n",
      "        20, 21, 21, 20, 21, 21, 20, 21, 20, 21, 21, 21, 22, 21])\n",
      "torch.Size([32, 64]) tensor([21, 21, 21, 21, 21, 21, 21, 21, 20, 21, 21, 19, 21, 21, 21, 20, 20, 19,\n",
      "        19, 21, 21, 21, 21, 21, 22, 21, 19, 21, 21, 20, 21, 21])\n",
      "torch.Size([32, 64]) tensor([21, 21, 21, 21, 21, 21, 21, 22, 21, 21, 21, 21, 22, 20, 21, 20, 21, 21,\n",
      "        21, 21, 21, 20, 21, 20, 21, 21, 21, 21, 21, 21, 20, 21])\n",
      "torch.Size([32, 64]) tensor([20, 21, 21, 21, 20, 21, 20, 21, 21, 21, 21, 21, 21, 21, 21, 21, 20, 21,\n",
      "        21, 21, 21, 22, 21, 21, 21, 22, 21, 20, 22, 21, 21, 21])\n",
      "torch.Size([32, 64]) tensor([21, 21, 21, 19, 21, 21, 22, 21, 20, 21, 21, 21, 21, 21, 21, 21, 21, 21,\n",
      "        22, 21, 21, 20, 21, 21, 22, 21, 20, 21, 21, 20, 21, 21])\n",
      "torch.Size([32, 64]) tensor([21, 21, 19, 21, 21, 21, 21, 21, 21, 21, 21, 21, 20, 21, 21, 21, 21, 22,\n",
      "        21, 21, 21, 20, 21, 21, 22, 21, 22, 21, 21, 20, 21, 21])\n",
      "torch.Size([32, 64]) tensor([20, 22, 20, 21, 21, 21, 21, 21, 21, 21, 21, 21, 21, 21, 21, 19, 21, 21,\n",
      "        21, 21, 21, 21, 21, 20, 21, 21, 21, 21, 19, 20, 21, 20])\n",
      "torch.Size([32, 64]) tensor([21, 21, 21, 21, 21, 22, 21, 22, 21, 21, 21, 20, 21, 21, 21, 22, 21, 21,\n",
      "        21, 21, 20, 21, 21, 21, 21, 21, 21, 21, 20, 19, 21, 21])\n",
      "torch.Size([32, 64]) tensor([20, 21, 20, 21, 21, 21, 21, 20, 22, 19, 20, 21, 21, 21, 22, 21, 20, 21,\n",
      "        21, 20, 22, 21, 21, 21, 21, 21, 21, 21, 21, 21, 20, 19])\n",
      "torch.Size([32, 64]) tensor([21, 21, 19, 21, 21, 20, 21, 21, 20, 21, 21, 21, 21, 21, 21, 21, 22, 21,\n",
      "        21, 19, 21, 21, 21, 21, 21, 21, 21, 21, 21, 21, 21, 21])\n",
      "torch.Size([32, 64]) tensor([21, 20, 21, 20, 21, 21, 21, 21, 21, 21, 21, 20, 21, 21, 21, 21, 21, 21,\n",
      "        21, 21, 21, 21, 21, 20, 21, 21, 21, 21, 19, 21, 21, 20])\n",
      "torch.Size([32, 64]) tensor([20, 20, 21, 21, 21, 21, 21, 21, 21, 21, 21, 21, 21, 21, 21, 21, 21, 20,\n",
      "        20, 21, 22, 19, 21, 21, 21, 21, 21, 22, 22, 21, 21, 21])\n",
      "torch.Size([32, 64]) tensor([22, 21, 21, 21, 21, 21, 21, 21, 21, 21, 21, 21, 21, 19, 21, 21, 21, 21,\n",
      "        21, 21, 20, 21, 21, 21, 22, 21, 22, 21, 21, 21, 21, 21])\n",
      "torch.Size([32, 64]) tensor([21, 21, 21, 21, 21, 20, 21, 20, 20, 21, 21, 21, 21, 21, 21, 21, 21, 21,\n",
      "        21, 20, 21, 21, 21, 21, 21, 20, 21, 21, 21, 22, 21, 21])\n",
      "torch.Size([32, 64]) tensor([21, 21, 22, 21, 21, 20, 21, 19, 21, 20, 21, 21, 21, 21, 21, 20, 19, 20,\n",
      "        20, 21, 21, 21, 20, 19, 21, 21, 20, 21, 20, 21, 20, 19])\n",
      "torch.Size([32, 64]) tensor([21, 21, 21, 20, 21, 20, 21, 21, 21, 21, 21, 21, 21, 21, 20, 21, 21, 21,\n",
      "        21, 21, 21, 21, 21, 21, 21, 21, 21, 21, 20, 19, 21, 21])\n",
      "torch.Size([32, 64]) tensor([21, 21, 21, 21, 21, 21, 21, 21, 22, 21, 21, 22, 20, 20, 21, 21, 22, 21,\n",
      "        21, 21, 21, 21, 21, 22, 21, 21, 21, 21, 21, 21, 20, 21])\n",
      "torch.Size([32, 64]) tensor([21, 22, 21, 21, 21, 20, 19, 21, 21, 20, 21, 21, 21, 21, 21, 21, 21, 21,\n",
      "        21, 21, 21, 21, 21, 21, 21, 20, 21, 21, 21, 21, 22, 21])\n",
      "torch.Size([32, 64]) tensor([20, 21, 21, 20, 21, 21, 20, 21, 21, 21, 20, 21, 21, 21, 21, 21, 21, 21,\n",
      "        20, 20, 21, 21, 21, 21, 22, 21, 21, 21, 18, 21, 21, 21])\n",
      "torch.Size([32, 64]) tensor([21, 21, 21, 21, 21, 22, 21, 21, 21, 21, 21, 21, 21, 21, 21, 20, 21, 20,\n",
      "        21, 21, 21, 21, 21, 21, 21, 21, 20, 21, 21, 21, 21, 21])\n",
      "torch.Size([32, 64]) tensor([21, 21, 21, 21, 20, 21, 21, 21, 21, 20, 21, 21, 21, 21, 21, 21, 21, 21,\n",
      "        21, 21, 19, 21, 21, 21, 20, 21, 21, 20, 20, 21, 21, 20])\n",
      "torch.Size([32, 64]) tensor([21, 21, 20, 21, 21, 20, 21, 21, 21, 22, 21, 20, 21, 21, 21, 22, 21, 21,\n",
      "        21, 21, 21, 21, 20, 21, 21, 21, 20, 21, 21, 21, 21, 21])\n",
      "torch.Size([32, 64]) tensor([21, 21, 21, 21, 21, 21, 20, 19, 20, 21, 21, 21, 21, 20, 21, 21, 20, 21,\n",
      "        20, 20, 20, 21, 21, 21, 21, 20, 20, 21, 21, 21, 20, 21])\n",
      "torch.Size([32, 64]) tensor([20, 21, 21, 20, 21, 20, 21, 21, 21, 21, 21, 21, 21, 21, 21, 21, 21, 21,\n",
      "        22, 21, 20, 21, 21, 21, 21, 21, 21, 21, 21, 21, 20, 21])\n",
      "torch.Size([32, 64]) tensor([21, 21, 21, 21, 20, 20, 20, 21, 20, 21, 20, 21, 21, 21, 21, 21, 20, 22,\n",
      "        20, 21, 21, 21, 21, 22, 22, 21, 21, 20, 21, 20, 19, 21])\n",
      "torch.Size([32, 64]) tensor([20, 21, 21, 22, 21, 22, 21, 21, 21, 21, 21, 21, 20, 21, 21, 21, 20, 21,\n",
      "        21, 21, 21, 21, 21, 21, 21, 21, 21, 22, 21, 21, 21, 21])\n",
      "torch.Size([32, 64]) tensor([21, 21, 21, 21, 21, 21, 20, 20, 21, 20, 21, 21, 22, 21, 22, 21, 21, 21,\n",
      "        20, 20, 21, 21, 21, 21, 21, 21, 19, 21, 20, 20, 20, 21])\n"
     ]
    },
    {
     "name": "stdout",
     "output_type": "stream",
     "text": [
      "torch.Size([32, 64]) tensor([21, 20, 21, 21, 21, 21, 20, 21, 21, 21, 21, 21, 20, 21, 21, 20, 20, 21,\n",
      "        21, 21, 21, 21, 20, 21, 21, 21, 21, 21, 21, 21, 21, 21])\n",
      "torch.Size([32, 64]) tensor([21, 22, 20, 21, 21, 19, 21, 20, 21, 21, 21, 21, 21, 22, 21, 21, 21, 21,\n",
      "        21, 21, 21, 21, 21, 22, 22, 21, 21, 21, 20, 21, 21, 21])\n",
      "torch.Size([32, 64]) tensor([21, 21, 21, 21, 21, 21, 21, 21, 21, 21, 20, 21, 21, 20, 21, 21, 21, 21,\n",
      "        21, 21, 21, 21, 18, 21, 21, 20, 21, 21, 22, 21, 21, 20])\n",
      "torch.Size([32, 64]) tensor([21, 21, 19, 21, 20, 21, 21, 21, 21, 21, 21, 21, 19, 21, 21, 21, 21, 21,\n",
      "        20, 21, 21, 21, 21, 21, 21, 21, 21, 20, 21, 21, 21, 21])\n",
      "torch.Size([32, 64]) tensor([21, 21, 21, 21, 21, 19, 21, 21, 21, 21, 21, 21, 20, 20, 21, 21, 20, 20,\n",
      "        21, 21, 21, 21, 21, 21, 20, 20, 19, 21, 22, 19, 22, 21])\n",
      "torch.Size([32, 64]) tensor([21, 21, 20, 21, 21, 21, 21, 21, 21, 21, 21, 21, 20, 21, 21, 20, 21, 21,\n",
      "        21, 21, 20, 21, 21, 21, 21, 20, 21, 21, 20, 21, 20, 20])\n",
      "torch.Size([32, 64]) tensor([21, 21, 19, 21, 21, 21, 21, 21, 21, 21, 21, 21, 20, 19, 21, 21, 19, 20,\n",
      "        21, 21, 19, 21, 20, 21, 21, 21, 20, 21, 21, 21, 21, 21])\n",
      "torch.Size([32, 64]) tensor([21, 21, 20, 21, 21, 21, 22, 21, 21, 21, 21, 21, 22, 21, 21, 21, 20, 21,\n",
      "        21, 21, 21, 21, 21, 21, 21, 21, 21, 20, 21, 20, 21, 21])\n",
      "torch.Size([32, 64]) tensor([21, 21, 21, 20, 21, 21, 21, 21, 21, 21, 21, 21, 21, 21, 21, 19, 20, 21,\n",
      "        21, 21, 21, 21, 21, 21, 21, 21, 21, 21, 20, 21, 21, 21])\n",
      "torch.Size([32, 64]) tensor([21, 21, 21, 21, 21, 19, 20, 21, 22, 21, 21, 21, 21, 20, 20, 21, 19, 21,\n",
      "        19, 21, 19, 22, 21, 21, 21, 21, 21, 21, 22, 21, 19, 21])\n",
      "torch.Size([32, 64]) tensor([21, 21, 21, 21, 21, 21, 21, 21, 20, 20, 20, 21, 21, 19, 21, 20, 21, 20,\n",
      "        21, 20, 20, 20, 20, 21, 21, 21, 21, 21, 21, 21, 21, 20])\n",
      "torch.Size([32, 64]) tensor([21, 21, 20, 21, 20, 21, 21, 21, 21, 21, 20, 21, 21, 21, 21, 21, 21, 21,\n",
      "        21, 21, 21, 21, 21, 20, 21, 20, 21, 20, 21, 21, 21, 21])\n",
      "torch.Size([32, 64]) tensor([21, 21, 21, 21, 21, 21, 21, 21, 21, 21, 21, 21, 21, 20, 21, 22, 20, 22,\n",
      "        21, 20, 20, 21, 21, 21, 20, 21, 21, 21, 21, 21, 21, 21])\n",
      "torch.Size([32, 64]) tensor([21, 21, 21, 20, 20, 19, 22, 21, 20, 22, 21, 21, 21, 21, 21, 21, 21, 22,\n",
      "        21, 21, 22, 21, 20, 20, 21, 20, 20, 21, 21, 19, 21, 22])\n",
      "torch.Size([32, 64]) tensor([21, 22, 20, 21, 21, 21, 19, 21, 21, 21, 20, 22, 21, 21, 21, 20, 21, 21,\n",
      "        20, 19, 20, 21, 20, 21, 21, 20, 21, 20, 21, 21, 20, 21])\n",
      "torch.Size([32, 64]) tensor([21, 21, 21, 21, 21, 21, 21, 21, 21, 21, 21, 21, 21, 20, 21, 20, 21, 21,\n",
      "        21, 21, 21, 20, 21, 21, 21, 21, 21, 21, 21, 20, 19, 21])\n",
      "torch.Size([32, 64]) tensor([21, 21, 20, 22, 21, 21, 21, 21, 21, 21, 21, 21, 21, 21, 20, 22, 21, 21,\n",
      "        21, 21, 21, 21, 21, 21, 21, 21, 21, 20, 21, 21, 21, 21])\n",
      "torch.Size([32, 64]) tensor([21, 21, 21, 21, 21, 21, 21, 21, 21, 21, 20, 21, 21, 21, 21, 20, 21, 21,\n",
      "        21, 21, 21, 21, 21, 20, 21, 19, 22, 21, 21, 21, 21, 20])\n",
      "torch.Size([32, 64]) tensor([21, 21, 21, 21, 22, 20, 21, 21, 21, 22, 22, 21, 21, 21, 21, 21, 21, 21,\n",
      "        20, 21, 21, 21, 20, 21, 21, 21, 21, 21, 21, 21, 21, 20])\n",
      "torch.Size([32, 64]) tensor([21, 20, 20, 21, 21, 19, 21, 21, 21, 21, 21, 21, 20, 21, 21, 21, 21, 20,\n",
      "        22, 20, 21, 22, 21, 19, 20, 20, 21, 21, 21, 21, 21, 22])\n",
      "torch.Size([32, 64]) tensor([21, 21, 21, 21, 21, 21, 20, 21, 21, 21, 21, 21, 21, 21, 21, 21, 21, 21,\n",
      "        21, 20, 22, 20, 21, 20, 21, 21, 21, 21, 21, 20, 21, 21])\n",
      "torch.Size([32, 64]) tensor([21, 20, 20, 21, 21, 21, 21, 21, 20, 21, 21, 21, 21, 21, 20, 19, 21, 21,\n",
      "        21, 22, 21, 20, 21, 21, 21, 20, 21, 21, 20, 21, 21, 21])\n",
      "torch.Size([32, 64]) tensor([20, 21, 21, 21, 22, 19, 21, 21, 20, 21, 21, 21, 21, 21, 21, 21, 20, 21,\n",
      "        21, 21, 20, 21, 20, 21, 21, 21, 20, 22, 21, 21, 21, 20])\n",
      "torch.Size([32, 64]) tensor([21, 21, 19, 21, 20, 20, 21, 21, 19, 21, 21, 20, 22, 21, 21, 21, 20, 21,\n",
      "        21, 21, 20, 22, 21, 20, 21, 21, 21, 21, 21, 21, 21, 21])\n",
      "torch.Size([32, 64]) tensor([21, 21, 21, 21, 21, 21, 20, 21, 20, 21, 21, 21, 19, 21, 22, 21, 21, 21,\n",
      "        21, 20, 21, 20, 21, 21, 21, 21, 21, 20, 20, 19, 21, 20])\n",
      "torch.Size([32, 64]) tensor([20, 21, 21, 21, 20, 22, 20, 20, 21, 21, 21, 21, 21, 21, 21, 21, 21, 21,\n",
      "        19, 20, 21, 21, 20, 21, 21, 21, 21, 21, 21, 21, 21, 21])\n",
      "torch.Size([32, 64]) tensor([21, 21, 21, 21, 21, 21, 21, 21, 20, 21, 21, 21, 21, 22, 20, 21, 20, 21,\n",
      "        20, 21, 21, 21, 22, 21, 21, 21, 21, 20, 21, 21, 21, 21])\n",
      "torch.Size([32, 64]) tensor([21, 21, 21, 21, 21, 21, 21, 21, 21, 20, 21, 20, 21, 21, 21, 20, 21, 21,\n",
      "        21, 21, 20, 21, 22, 19, 21, 20, 21, 20, 21, 21, 21, 21])\n",
      "torch.Size([32, 64]) tensor([21, 19, 20, 21, 21, 21, 21, 21, 21, 21, 21, 21, 21, 22, 20, 21, 20, 21,\n",
      "        21, 21, 21, 21, 21, 21, 20, 22, 20, 20, 20, 20, 21, 20])\n",
      "torch.Size([32, 64]) tensor([21, 21, 21, 21, 21, 20, 22, 21, 21, 21, 20, 21, 20, 20, 21, 21, 21, 21,\n",
      "        21, 21, 21, 20, 21, 21, 21, 21, 21, 21, 21, 21, 21, 20])\n",
      "torch.Size([32, 64]) tensor([21, 21, 21, 21, 21, 21, 21, 21, 21, 21, 21, 21, 21, 21, 22, 21, 21, 20,\n",
      "        22, 22, 21, 21, 21, 20, 21, 21, 21, 21, 21, 21, 21, 20])\n",
      "torch.Size([32, 64]) tensor([21, 21, 20, 21, 21, 21, 20, 21, 21, 21, 21, 21, 21, 21, 21, 22, 21, 21,\n",
      "        19, 21, 20, 22, 21, 22, 21, 20, 22, 20, 21, 21, 21, 20])\n",
      "torch.Size([32, 64]) tensor([21, 19, 21, 21, 21, 21, 21, 21, 21, 21, 20, 19, 21, 21, 21, 21, 21, 21,\n",
      "        21, 21, 21, 21, 21, 21, 21, 21, 19, 21, 21, 21, 21, 21])\n",
      "torch.Size([32, 64]) tensor([21, 21, 21, 21, 21, 20, 21, 20, 21, 21, 21, 21, 21, 21, 21, 21, 20, 21,\n",
      "        21, 19, 19, 21, 21, 21, 21, 21, 20, 21, 21, 21, 21, 21])\n",
      "torch.Size([32, 64]) tensor([21, 20, 21, 20, 21, 21, 21, 21, 20, 21, 21, 21, 21, 21, 20, 21, 21, 21,\n",
      "        19, 21, 21, 21, 20, 20, 21, 20, 21, 21, 21, 21, 21, 21])\n",
      "torch.Size([32, 64]) tensor([21, 20, 21, 19, 21, 20, 22, 20, 21, 21, 21, 21, 20, 21, 21, 21, 21, 21,\n",
      "        21, 21, 21, 21, 20, 21, 21, 21, 21, 21, 21, 21, 21, 20])\n",
      "torch.Size([32, 64]) tensor([20, 21, 20, 21, 20, 21, 21, 21, 20, 21, 21, 21, 20, 22, 21, 21, 21, 21,\n",
      "        21, 21, 21, 22, 22, 21, 20, 21, 20, 21, 21, 20, 21, 21])\n",
      "torch.Size([32, 64]) tensor([21, 21, 21, 21, 21, 21, 21, 21, 21, 21, 21, 20, 21, 21, 21, 20, 20, 21,\n",
      "        21, 20, 20, 21, 20, 21, 21, 22, 21, 20, 22, 21, 21, 22])\n",
      "torch.Size([32, 64]) tensor([22, 20, 21, 21, 21, 21, 21, 21, 20, 22, 21, 21, 21, 21, 21, 20, 21, 21,\n",
      "        21, 19, 20, 21, 21, 21, 20, 21, 21, 20, 21, 21, 21, 21])\n",
      "torch.Size([32, 64]) tensor([21, 22, 22, 21, 21, 21, 21, 21, 20, 21, 21, 21, 21, 21, 20, 22, 21, 22,\n",
      "        21, 21, 21, 19, 19, 21, 21, 20, 21, 21, 21, 21, 21, 21])\n",
      "torch.Size([32, 64]) tensor([21, 21, 21, 21, 21, 21, 21, 21, 21, 21, 21, 20, 21, 20, 21, 21, 20, 21,\n",
      "        21, 21, 20, 21, 21, 19, 21, 21, 21, 19, 21, 22, 22, 20])\n",
      "torch.Size([32, 64]) tensor([21, 21, 21, 20, 21, 21, 20, 21, 21, 21, 21, 21, 21, 22, 21, 21, 20, 19,\n",
      "        19, 21, 20, 21, 21, 21, 21, 21, 21, 20, 21, 21, 21, 21])\n",
      "torch.Size([32, 64]) tensor([21, 21, 21, 21, 21, 21, 21, 21, 21, 20, 21, 21, 21, 21, 21, 21, 21, 21,\n",
      "        21, 21, 21, 19, 21, 21, 19, 21, 21, 21, 22, 21, 20, 20])\n"
     ]
    }
   ],
   "source": [
    "for batch_idx, (images, tokens) in enumerate(dataloader):\n",
    "    print(tokens.shape, tokens.argmax(dim=-1))\n",
    "    \n",
    "    if batch_idx>=100:\n",
    "        break"
   ]
  },
  {
   "cell_type": "code",
   "execution_count": 17,
   "id": "934c502f",
   "metadata": {},
   "outputs": [
    {
     "data": {
      "text/plain": [
       "tensor([21, 21, 21, 21, 21, 20, 21, 21, 21, 21, 20, 21, 21, 21, 21, 21, 21, 21,\n",
       "        21, 21, 21, 21, 21, 19, 22, 21, 21, 21, 21, 21, 20, 19],\n",
       "       dtype=torch.int32)"
      ]
     },
     "execution_count": 17,
     "metadata": {},
     "output_type": "execute_result"
    }
   ],
   "source": [
    "condition.argmax(dim=-1).to(torch.int32)"
   ]
  },
  {
   "cell_type": "code",
   "execution_count": 7,
   "id": "15678964",
   "metadata": {},
   "outputs": [],
   "source": [
    "np.save('test_data.npy', something.cpu().numpy())"
   ]
  },
  {
   "cell_type": "code",
   "execution_count": 8,
   "id": "4b455604",
   "metadata": {},
   "outputs": [],
   "source": [
    "np.save('test_data_text.npy', condition.cpu().numpy())"
   ]
  },
  {
   "cell_type": "code",
   "execution_count": null,
   "id": "3f15f1be",
   "metadata": {},
   "outputs": [],
   "source": []
  }
 ],
 "metadata": {
  "kernelspec": {
   "display_name": "Python 3 (ipykernel)",
   "language": "python",
   "name": "python3"
  },
  "language_info": {
   "codemirror_mode": {
    "name": "ipython",
    "version": 3
   },
   "file_extension": ".py",
   "mimetype": "text/x-python",
   "name": "python",
   "nbconvert_exporter": "python",
   "pygments_lexer": "ipython3",
   "version": "3.8.10"
  }
 },
 "nbformat": 4,
 "nbformat_minor": 5
}
